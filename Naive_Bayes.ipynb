{
 "cells": [
  {
   "cell_type": "code",
   "execution_count": 2,
   "id": "5001c798-53f5-4f98-8e10-e6d8c9b8d721",
   "metadata": {},
   "outputs": [],
   "source": [
    "import pandas as pd\n",
    "import numpy as np\n",
    "import matplotlib.pyplot as plt\n",
    "import seaborn as sns"
   ]
  },
  {
   "cell_type": "code",
   "execution_count": 3,
   "id": "b74811e4-984e-4fa6-83e3-ebaa8b7dc9e8",
   "metadata": {},
   "outputs": [
    {
     "data": {
      "text/html": [
       "<div>\n",
       "<style scoped>\n",
       "    .dataframe tbody tr th:only-of-type {\n",
       "        vertical-align: middle;\n",
       "    }\n",
       "\n",
       "    .dataframe tbody tr th {\n",
       "        vertical-align: top;\n",
       "    }\n",
       "\n",
       "    .dataframe thead th {\n",
       "        text-align: right;\n",
       "    }\n",
       "</style>\n",
       "<table border=\"1\" class=\"dataframe\">\n",
       "  <thead>\n",
       "    <tr style=\"text-align: right;\">\n",
       "      <th></th>\n",
       "      <th>Pregnancies</th>\n",
       "      <th>Glucose</th>\n",
       "      <th>BloodPressure</th>\n",
       "      <th>SkinThickness</th>\n",
       "      <th>Insulin</th>\n",
       "      <th>BMI</th>\n",
       "      <th>DiabetesPedigreeFunction</th>\n",
       "      <th>Age</th>\n",
       "      <th>Outcome</th>\n",
       "    </tr>\n",
       "  </thead>\n",
       "  <tbody>\n",
       "    <tr>\n",
       "      <th>0</th>\n",
       "      <td>6</td>\n",
       "      <td>148</td>\n",
       "      <td>72</td>\n",
       "      <td>35</td>\n",
       "      <td>0</td>\n",
       "      <td>33.6</td>\n",
       "      <td>0.627</td>\n",
       "      <td>50</td>\n",
       "      <td>1</td>\n",
       "    </tr>\n",
       "    <tr>\n",
       "      <th>1</th>\n",
       "      <td>1</td>\n",
       "      <td>85</td>\n",
       "      <td>66</td>\n",
       "      <td>29</td>\n",
       "      <td>0</td>\n",
       "      <td>26.6</td>\n",
       "      <td>0.351</td>\n",
       "      <td>31</td>\n",
       "      <td>0</td>\n",
       "    </tr>\n",
       "    <tr>\n",
       "      <th>2</th>\n",
       "      <td>8</td>\n",
       "      <td>183</td>\n",
       "      <td>64</td>\n",
       "      <td>0</td>\n",
       "      <td>0</td>\n",
       "      <td>23.3</td>\n",
       "      <td>0.672</td>\n",
       "      <td>32</td>\n",
       "      <td>1</td>\n",
       "    </tr>\n",
       "    <tr>\n",
       "      <th>3</th>\n",
       "      <td>1</td>\n",
       "      <td>89</td>\n",
       "      <td>66</td>\n",
       "      <td>23</td>\n",
       "      <td>94</td>\n",
       "      <td>28.1</td>\n",
       "      <td>0.167</td>\n",
       "      <td>21</td>\n",
       "      <td>0</td>\n",
       "    </tr>\n",
       "    <tr>\n",
       "      <th>4</th>\n",
       "      <td>0</td>\n",
       "      <td>137</td>\n",
       "      <td>40</td>\n",
       "      <td>35</td>\n",
       "      <td>168</td>\n",
       "      <td>43.1</td>\n",
       "      <td>2.288</td>\n",
       "      <td>33</td>\n",
       "      <td>1</td>\n",
       "    </tr>\n",
       "  </tbody>\n",
       "</table>\n",
       "</div>"
      ],
      "text/plain": [
       "   Pregnancies  Glucose  BloodPressure  SkinThickness  Insulin   BMI  \\\n",
       "0            6      148             72             35        0  33.6   \n",
       "1            1       85             66             29        0  26.6   \n",
       "2            8      183             64              0        0  23.3   \n",
       "3            1       89             66             23       94  28.1   \n",
       "4            0      137             40             35      168  43.1   \n",
       "\n",
       "   DiabetesPedigreeFunction  Age  Outcome  \n",
       "0                     0.627   50        1  \n",
       "1                     0.351   31        0  \n",
       "2                     0.672   32        1  \n",
       "3                     0.167   21        0  \n",
       "4                     2.288   33        1  "
      ]
     },
     "execution_count": 3,
     "metadata": {},
     "output_type": "execute_result"
    }
   ],
   "source": [
    "data = pd.read_csv(r\"C:\\Users\\ABDUL_HADI\\Desktop\\ML Lab\\KNN and Niave_Bayes\\diabetes.csv\")\n",
    "data.head()"
   ]
  },
  {
   "cell_type": "code",
   "execution_count": 4,
   "id": "ebbc69bd-742c-4810-baf1-8c9ab7a69702",
   "metadata": {},
   "outputs": [
    {
     "data": {
      "text/plain": [
       "<Axes: >"
      ]
     },
     "execution_count": 4,
     "metadata": {},
     "output_type": "execute_result"
    },
    {
     "data": {
      "image/png": "[encoded data removed]",
      "text/plain": [
       "<Figure size 640x480 with 1 Axes>"
      ]
     },
     "metadata": {},
     "output_type": "display_data"
    }
   ],
   "source": [
    "data[\"Outcome\"].hist()"
   ]
  },
  {
   "cell_type": "code",
   "execution_count": 8,
   "id": "4b790f2c-7463-415f-9cf7-01f7756605a8",
   "metadata": {},
   "outputs": [],
   "source": [
    "# corr = data.iloc[:,:-1].corr(method=\"pearson\")\n",
    "# cmap = sns.diverging_palette(250,354,80,60,center='dark',as_cmap=True)\n",
    "# sns.heatmap(corr, vmax=1, vmin=-.5, cmap=cmap, square=True, linewidths=.2)"
   ]
  },
  {
   "cell_type": "code",
   "execution_count": 10,
   "id": "03fd313e-8205-4d0c-82a2-7680dfb1c71c",
   "metadata": {},
   "outputs": [],
   "source": [
    "from sklearn.model_selection import train_test_split\n",
    "\n",
    "X = data.drop([\"Outcome\"] , axis=1)\n",
    "y = data[\"Outcome\"]\n",
    "\n",
    "X_train , X_test , y_train , y_test = train_test_split(X , y , test_size=0.2 , random_state=42)"
   ]
  },
  {
   "cell_type": "code",
   "execution_count": 12,
   "id": "6e6bff2d-d140-4018-981d-684b17f2ef1a",
   "metadata": {},
   "outputs": [
    {
     "name": "stdout",
     "output_type": "stream",
     "text": [
      "Training set size: (614, 8) (614,)\n",
      "Testing set size: (154, 8) (154,)\n"
     ]
    }
   ],
   "source": [
    "print(\"Training set size:\", X_train.shape, y_train.shape)\n",
    "print(\"Testing set size:\", X_test.shape, y_test.shape)"
   ]
  },
  {
   "cell_type": "code",
   "execution_count": 14,
   "id": "49c0bfc1-bcb5-4a78-b452-1e2d285ef04d",
   "metadata": {},
   "outputs": [],
   "source": [
    "class_prior = y.value_counts(normalize=True).to_dict()"
   ]
  },
  {
   "cell_type": "code",
   "execution_count": 16,
   "id": "40da9bf4-b0e8-4bc2-b4d5-14eac645bf7f",
   "metadata": {},
   "outputs": [],
   "source": [
    "class_stats = {}\n",
    "\n",
    "for feature in X.columns:\n",
    "    class_stats[feature] = {}\n",
    "    for cls in np.unique(y):\n",
    "        cls_data = X[y == cls][feature]\n",
    "        mean = cls_data.mean()\n",
    "        var = cls_data.var()\n",
    "        class_stats[feature][cls] = {'mean': mean, 'var': var}\n"
   ]
  },
  {
   "cell_type": "code",
   "execution_count": 18,
   "id": "199b3ebb-1b68-46ba-b68c-86d8cbd34f4c",
   "metadata": {},
   "outputs": [],
   "source": [
    "def gaussian_probability(x, mean, var):\n",
    "    exponent = np.exp(-((x - mean) ** 2) / (2 * var))\n",
    "    return (1 / np.sqrt(2 * np.pi * var)) * exponent\n"
   ]
  },
  {
   "cell_type": "code",
   "execution_count": 20,
   "id": "5bd30112-15b3-4822-9a54-e36f124f91da",
   "metadata": {},
   "outputs": [],
   "source": [
    "def predict(X_test):\n",
    "    predictions = []\n",
    "    for _, x in X_test.iterrows():\n",
    "        posteriors = {}\n",
    "        for cls in class_prior:\n",
    "            prior = np.log(class_prior[cls])\n",
    "            likelihood = 0\n",
    "            for feature in X.columns:\n",
    "                mean = class_stats[feature][cls]['mean']\n",
    "                var = class_stats[feature][cls]['var']\n",
    "                likelihood += np.log(gaussian_probability(x[feature], mean, var))\n",
    "            posteriors[cls] = prior + likelihood\n",
    "        predictions.append(max(posteriors, key=posteriors.get))\n",
    "    return predictions\n"
   ]
  },
  {
   "cell_type": "code",
   "execution_count": 22,
   "id": "c50d4d17-ea4d-450b-9b00-dc65952f954d",
   "metadata": {},
   "outputs": [
    {
     "name": "stdout",
     "output_type": "stream",
     "text": [
      "Accuracy: 0.76\n"
     ]
    }
   ],
   "source": [
    "y_pred = predict(X)\n",
    "\n",
    "# Accuracy\n",
    "accuracy = np.mean(y_pred == y)\n",
    "print(f'Accuracy: {accuracy:.2f}')"
   ]
  },
  {
   "cell_type": "code",
   "execution_count": null,
   "id": "0e893c43-997a-4ce6-abd6-a9a6a85bc8ee",
   "metadata": {},
   "outputs": [],
   "source": [
    "np.unique(y)"
   ]
  },
  {
   "cell_type": "code",
   "execution_count": null,
   "id": "91df47ef-26d8-4303-a929-081e82368577",
   "metadata": {},
   "outputs": [],
   "source": [
    "cls_data"
   ]
  },
  {
   "cell_type": "code",
   "execution_count": null,
   "id": "c2597c1f-463c-4bef-9413-aa3045cf0c39",
   "metadata": {},
   "outputs": [],
   "source": []
  }
 ],
 "metadata": {
  "kernelspec": {
   "display_name": "Python 3 (ipykernel)",
   "language": "python",
   "name": "python3"
  },
  "language_info": {
   "codemirror_mode": {
    "name": "ipython",
    "version": 3
   },
   "file_extension": ".py",
   "mimetype": "text/x-python",
   "name": "python",
   "nbconvert_exporter": "python",
   "pygments_lexer": "ipython3",
   "version": "3.11.5"
  }
 },
 "nbformat": 4,
 "nbformat_minor": 5
}
